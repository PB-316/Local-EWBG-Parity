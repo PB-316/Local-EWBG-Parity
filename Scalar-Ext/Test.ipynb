{
 "cells": [
  {
   "cell_type": "code",
   "execution_count": 1,
   "metadata": {},
   "outputs": [],
   "source": [
    "import numpy as np\n",
    "from cosmoTransitions import generic_potential as gp\n",
    "from cosmoTransitions import pathDeformation as pd\n",
    "from scipy import interpolate, optimize"
   ]
  },
  {
   "cell_type": "code",
   "execution_count": 4,
   "metadata": {},
   "outputs": [],
   "source": [
    "GF = 1.16637e-05 \n",
    "v = 1/np.sqrt(np.sqrt(2)*GF)\n",
    "vR=10**5\n",
    "aB = np.exp(3.91)\n",
    "aF = np.exp(1.14)"
   ]
  },
  {
   "cell_type": "code",
   "execution_count": 201,
   "metadata": {},
   "outputs": [],
   "source": [
    "class model(gp.generic_potential):\n",
    "    def init(self, lR, A, muS, g1,g2,yt):\n",
    "        self.yt=yt\n",
    "        self.g=g2\n",
    "        self.gy=g1\n",
    "        self.A = A\n",
    "        self.lR = lR\n",
    "        self.muS = muS\n",
    "        self.cs = 2/3\n",
    "        self.muH2 = self.lR * vR**2\n",
    "        self.mWsq = 0.25*self.g**2*vR**2\n",
    "        self.mZsq = 0.25*(self.g**2 + self.gy**2) * vR**2\n",
    "        self.mtsq = 0.5*self.yt**2 * vR**2\n",
    "        self.D = (3*self.g**2 + self.gy**2 + 4*self.yt**2)/16.\n",
    "        self.B = 3*(2*self.mWsq**2 + self.mZsq**2 - 4*self.mtsq**2)/(64*np.pi**2 * vR**4)\n",
    "        self.E = (2*self.g**3 + (self.g**2 + self.gy**2)**(3/2))/(32*np.pi)\n",
    "        self.T0 = ((self.muH2 - 4*self.B * vR**2)/(2*self.D))**0.5\n",
    "        self.Ndim = 2\n",
    "        self.Tmax = 50000\n",
    "        self.Deff = self.D - self.cs * self.A**2 / (4.0 * self.muS**2)\n",
    "        self.T01d = ((self.muH2 - 4*self.B * vR**2 - 0.5*vR**2 * self.A**2/self.muS**2)/(2*self.Deff))**0.5\n",
    "        self.Tc = False\n",
    "\n",
    "    def lR_T(self,T):\n",
    "        T = np.asanyarray(T, dtype=float)\n",
    "        T2 = (T*T) + 1e-100\n",
    "        correction = 2 * self.mWsq**2 * np.log(self.mWsq/(aB * T2))\n",
    "        correction += self.mZsq**2 * np.log(self.mZsq/(aB*T2))\n",
    "        correction += - 4*self.mtsq**2 * np.log(self.mtsq/(aF*T2))\n",
    "        correction = correction*3/(16*np.pi**2 * vR**4)\n",
    "        return self.lR - correction\n",
    "\n",
    "    def approxZeroTMin(self):\n",
    "        return [np.array([vR,0]),np.array([-vR,0])]\n",
    "\n",
    "    def resum(self, X, T):\n",
    "        T = np.asanyarray(T, dtype=float)\n",
    "        X = np.asanyarray(X, dtype=float)\n",
    "        T2 = (T * T) + 1e-100\n",
    "        phi1 = X[..., 0]\n",
    "        Sq = -88*self.g**2 * self.gy**2 *T2*(9*phi1**2 + 44*T2) + (self.g**2*(3*phi1**2 + 22*T2) + self.gy**2 * (3*phi1**2 + 44*T2))**2\n",
    "        mZL = (3 * self.g**2 * phi1**2 + 3 * self.gy**2 * phi1**2 + 22 * self.g**2 * T2 + 44 * self.gy**2 * T2 + np.sqrt(Sq))/24.\n",
    "        mBL = (3 * self.g**2 * phi1**2 + 3 * self.gy**2 * phi1**2 + 22 * self.g**2 * T2 + 44 * self.gy**2 * T2 - np.sqrt(Sq))/24.\n",
    "        mWL = 11*self.g**2 * T2/6 + 0.25*self.g**2 * phi1**2\n",
    "        resum = 2 * ( (0.25*self.g**2 * phi1**2)**(3/2) - mWL**(3/2))\n",
    "        resum += (0.25*(self.g**2 + self.gy**2)*phi1**2)**(3/2) - mZL**(3/2)\n",
    "        resum += - abs(mBL)**(3/2)\n",
    "        return resum*T/(12*np.pi)\n",
    "    \n",
    "    def Vtot(self, X, T, include_ratiation=True):\n",
    "        T = np.asanyarray(T, dtype=float)\n",
    "        X = np.asanyarray(X, dtype=float)\n",
    "        T2 = (T * T) + 1e-100\n",
    "        phi1 = X[..., 0]\n",
    "        phi2 = X[..., 1] \n",
    "        y = self.D * (T2 - self.T0**2) * phi1**2 - self.E*T*phi1**3 + 0.25 * self.lR_T(T) * phi1**4\n",
    "        y += (0.5*self.muS**2 * phi2**2 - 0.5 * self.A * (phi1**2 + self.cs * T2 - vR**2) * phi2)\n",
    "        y += self.resum(X,T)\n",
    "        return y\n",
    "\n",
    "    def Spath(self, X, T):\n",
    "        X = np.asanyarray(X)\n",
    "        T = np.asanyarray(T)\n",
    "        phi1 = X[..., 0]\n",
    "        T2 = (T * T) + 1e-100\n",
    "        return 0.5 * self.A * (phi1**2 + self.cs * T2 - vR**2) / self.muS**2\n",
    "\n",
    "    def find_Tc(self):\n",
    "        Tmax = self.Tmax\n",
    "        Tmin = 1000\n",
    "        for i in range(0,20):\n",
    "            Ttest = (Tmax + Tmin)/2\n",
    "            truevev = self.findMinimum([0.3*vR, self.Spath([0.3*vR], Ttest)], Ttest)\n",
    "            if truevev[0] >= 1:\n",
    "                Tmin = Ttest\n",
    "            else:\n",
    "                Tmax = Ttest\n",
    "        self.Tc = Ttest\n",
    "\n",
    "    def tunneling_at_T(self, T):\n",
    "        if self.Tc == False:\n",
    "            self.find_Tc()\n",
    "\n",
    "        assert T < self.Tc\n",
    "\n",
    "        def V_(x, T=T, V=self.Vtot):\n",
    "            return V(x, T)\n",
    "\n",
    "        def dV_(x, T=T, dV=self.gradV):\n",
    "            return dV(x, T)\n",
    "\n",
    "        truevev = self.findMinimum([0.3*vR, self.Spath([0.3*vR], T)], T)\n",
    "        # tobj = pd.fullTunneling([self.findMinimum(T=T),[0,self.Spath([0],T)]],V_,dV_)\n",
    "        tobj = pd.fullTunneling(\n",
    "            [\n",
    "                truevev,\n",
    "                [1e-100, self.Spath([1e-100], T)],\n",
    "            ],\n",
    "            V_,\n",
    "            dV_,\n",
    "        )\n",
    "        return tobj\n",
    "    "
   ]
  },
  {
   "cell_type": "code",
   "execution_count": 202,
   "metadata": {},
   "outputs": [],
   "source": [
    "m=model(0.0517831, 5.644776110372951, 17.992222319658012, 0.371575, 0.616563, 0.713062) # mS=15, sin=0.08"
   ]
  },
  {
   "cell_type": "code",
   "execution_count": 143,
   "metadata": {},
   "outputs": [
    {
     "data": {
      "text/plain": [
       "2.3335324827589084e+18"
      ]
     },
     "execution_count": 143,
     "metadata": {},
     "output_type": "execute_result"
    }
   ],
   "source": [
    "m.Vtot([vR,m.Spath([vR],T=40000)],T=40000)-m.Vtot([0,m.Spath([0],T=40000)],T=40000)"
   ]
  },
  {
   "cell_type": "code",
   "execution_count": 199,
   "metadata": {},
   "outputs": [],
   "source": [
    "m.find_Tc()"
   ]
  },
  {
   "cell_type": "code",
   "execution_count": 200,
   "metadata": {},
   "outputs": [
    {
     "data": {
      "text/plain": [
       "13899.500846862793"
      ]
     },
     "execution_count": 200,
     "metadata": {},
     "output_type": "execute_result"
    }
   ],
   "source": [
    "m.Tc"
   ]
  },
  {
   "cell_type": "code",
   "execution_count": 192,
   "metadata": {},
   "outputs": [
    {
     "name": "stdout",
     "output_type": "stream",
     "text": [
      "[ 2.20277201e+04 -8.18487117e+07]\n"
     ]
    }
   ],
   "source": [
    "vev = m.findMinimum([30000,m.Spath([30000],13800)],13800)\n",
    "print(vev)"
   ]
  },
  {
   "cell_type": "code",
   "execution_count": 186,
   "metadata": {},
   "outputs": [
    {
     "data": {
      "text/plain": [
       "-1.2036898070565386e+18"
      ]
     },
     "execution_count": 186,
     "metadata": {},
     "output_type": "execute_result"
    }
   ],
   "source": [
    "m.Vtot(vev,13500)"
   ]
  },
  {
   "cell_type": "code",
   "execution_count": 232,
   "metadata": {},
   "outputs": [
    {
     "name": "stdout",
     "output_type": "stream",
     "text": [
      "Maximum number of deformation iterations reached.\n",
      "Deformation doesn't appear to be converging.Stopping at the point of best convergence.\n",
      "Deformation doesn't appear to be converging.Stopping at the point of best convergence.\n",
      "Deformation doesn't appear to be converging.Stopping at the point of best convergence.\n",
      "Deformation doesn't appear to be converging.Stopping at the point of best convergence.\n"
     ]
    },
    {
     "ename": "PotentialError",
     "evalue": "('Barrier height is not positive, does not exist.', 'no barrier')",
     "output_type": "error",
     "traceback": [
      "\u001b[0;31m---------------------------------------------------------------------------\u001b[0m",
      "\u001b[0;31mPotentialError\u001b[0m                            Traceback (most recent call last)",
      "\u001b[1;32m/Users/isaac/Dropbox/Research_Project/2021-9-Local_EWBG_parity/02-Analysis/Scalar-Ext/Test.ipynb Cell 10\u001b[0m in \u001b[0;36m<cell line: 1>\u001b[0;34m()\u001b[0m\n\u001b[0;32m----> <a href='vscode-notebook-cell:/Users/isaac/Dropbox/Research_Project/2021-9-Local_EWBG_parity/02-Analysis/Scalar-Ext/Test.ipynb#ch0000029?line=0'>1</a>\u001b[0m m\u001b[39m.\u001b[39;49mtunneling_at_T(\u001b[39m13769.1243567\u001b[39;49m)\n",
      "\u001b[1;32m/Users/isaac/Dropbox/Research_Project/2021-9-Local_EWBG_parity/02-Analysis/Scalar-Ext/Test.ipynb Cell 10\u001b[0m in \u001b[0;36mmodel.tunneling_at_T\u001b[0;34m(self, T)\u001b[0m\n\u001b[1;32m     <a href='vscode-notebook-cell:/Users/isaac/Dropbox/Research_Project/2021-9-Local_EWBG_parity/02-Analysis/Scalar-Ext/Test.ipynb#ch0000029?line=91'>92</a>\u001b[0m truevev \u001b[39m=\u001b[39m \u001b[39mself\u001b[39m\u001b[39m.\u001b[39mfindMinimum([\u001b[39m0.3\u001b[39m\u001b[39m*\u001b[39mvR, \u001b[39mself\u001b[39m\u001b[39m.\u001b[39mSpath([\u001b[39m0.3\u001b[39m\u001b[39m*\u001b[39mvR], T)], T)\n\u001b[1;32m     <a href='vscode-notebook-cell:/Users/isaac/Dropbox/Research_Project/2021-9-Local_EWBG_parity/02-Analysis/Scalar-Ext/Test.ipynb#ch0000029?line=92'>93</a>\u001b[0m \u001b[39m# tobj = pd.fullTunneling([self.findMinimum(T=T),[0,self.Spath([0],T)]],V_,dV_)\u001b[39;00m\n\u001b[0;32m---> <a href='vscode-notebook-cell:/Users/isaac/Dropbox/Research_Project/2021-9-Local_EWBG_parity/02-Analysis/Scalar-Ext/Test.ipynb#ch0000029?line=93'>94</a>\u001b[0m tobj \u001b[39m=\u001b[39m pd\u001b[39m.\u001b[39;49mfullTunneling(\n\u001b[1;32m     <a href='vscode-notebook-cell:/Users/isaac/Dropbox/Research_Project/2021-9-Local_EWBG_parity/02-Analysis/Scalar-Ext/Test.ipynb#ch0000029?line=94'>95</a>\u001b[0m     [\n\u001b[1;32m     <a href='vscode-notebook-cell:/Users/isaac/Dropbox/Research_Project/2021-9-Local_EWBG_parity/02-Analysis/Scalar-Ext/Test.ipynb#ch0000029?line=95'>96</a>\u001b[0m         truevev,\n\u001b[1;32m     <a href='vscode-notebook-cell:/Users/isaac/Dropbox/Research_Project/2021-9-Local_EWBG_parity/02-Analysis/Scalar-Ext/Test.ipynb#ch0000029?line=96'>97</a>\u001b[0m         [\u001b[39m1e-100\u001b[39;49m, \u001b[39mself\u001b[39;49m\u001b[39m.\u001b[39;49mSpath([\u001b[39m1e-100\u001b[39;49m], T)],\n\u001b[1;32m     <a href='vscode-notebook-cell:/Users/isaac/Dropbox/Research_Project/2021-9-Local_EWBG_parity/02-Analysis/Scalar-Ext/Test.ipynb#ch0000029?line=97'>98</a>\u001b[0m     ],\n\u001b[1;32m     <a href='vscode-notebook-cell:/Users/isaac/Dropbox/Research_Project/2021-9-Local_EWBG_parity/02-Analysis/Scalar-Ext/Test.ipynb#ch0000029?line=98'>99</a>\u001b[0m     V_,\n\u001b[1;32m    <a href='vscode-notebook-cell:/Users/isaac/Dropbox/Research_Project/2021-9-Local_EWBG_parity/02-Analysis/Scalar-Ext/Test.ipynb#ch0000029?line=99'>100</a>\u001b[0m     dV_,\n\u001b[1;32m    <a href='vscode-notebook-cell:/Users/isaac/Dropbox/Research_Project/2021-9-Local_EWBG_parity/02-Analysis/Scalar-Ext/Test.ipynb#ch0000029?line=100'>101</a>\u001b[0m )\n\u001b[1;32m    <a href='vscode-notebook-cell:/Users/isaac/Dropbox/Research_Project/2021-9-Local_EWBG_parity/02-Analysis/Scalar-Ext/Test.ipynb#ch0000029?line=101'>102</a>\u001b[0m \u001b[39mreturn\u001b[39;00m tobj\n",
      "File \u001b[0;32m~/envs/base/lib/python3.9/site-packages/cosmoTransitions/pathDeformation.py:953\u001b[0m, in \u001b[0;36mfullTunneling\u001b[0;34m(path_pts, V, dV, maxiter, fixEndCutoff, save_all_steps, verbose, callback, callback_data, V_spline_samples, tunneling_class, tunneling_init_params, tunneling_findProfile_params, deformation_class, deformation_init_params, deformation_deform_params)\u001b[0m\n\u001b[1;32m    951\u001b[0m \u001b[39m# 2. Do 1d tunneling along the path.\u001b[39;00m\n\u001b[1;32m    952\u001b[0m \u001b[39mif\u001b[39;00m V_spline_samples \u001b[39mis\u001b[39;00m \u001b[39mnot\u001b[39;00m \u001b[39mNone\u001b[39;00m:\n\u001b[0;32m--> 953\u001b[0m     tobj \u001b[39m=\u001b[39m tunneling_class(\u001b[39m0.0\u001b[39;49m, path\u001b[39m.\u001b[39;49mL, path\u001b[39m.\u001b[39;49mV, path\u001b[39m.\u001b[39;49mdV, path\u001b[39m.\u001b[39;49md2V,\n\u001b[1;32m    954\u001b[0m                            \u001b[39m*\u001b[39;49m\u001b[39m*\u001b[39;49mtunneling_init_params)\n\u001b[1;32m    955\u001b[0m \u001b[39melse\u001b[39;00m:\n\u001b[1;32m    956\u001b[0m     tobj \u001b[39m=\u001b[39m tunneling_class(\u001b[39m0.0\u001b[39m, path\u001b[39m.\u001b[39mL, path\u001b[39m.\u001b[39mV, path\u001b[39m.\u001b[39mdV, \u001b[39mNone\u001b[39;00m,\n\u001b[1;32m    957\u001b[0m                            \u001b[39m*\u001b[39m\u001b[39m*\u001b[39mtunneling_init_params)\n",
      "File \u001b[0;32m~/envs/base/lib/python3.9/site-packages/cosmoTransitions/tunneling1D.py:138\u001b[0m, in \u001b[0;36mSingleFieldInstanton.__init__\u001b[0;34m(self, phi_absMin, phi_metaMin, V, dV, d2V, phi_eps, alpha, phi_bar, rscale)\u001b[0m\n\u001b[1;32m    136\u001b[0m     \u001b[39mself\u001b[39m\u001b[39m.\u001b[39mphi_bar \u001b[39m=\u001b[39m phi_bar\n\u001b[1;32m    137\u001b[0m \u001b[39mif\u001b[39;00m rscale \u001b[39mis\u001b[39;00m \u001b[39mNone\u001b[39;00m:\n\u001b[0;32m--> 138\u001b[0m     \u001b[39mself\u001b[39m\u001b[39m.\u001b[39mrscale \u001b[39m=\u001b[39m \u001b[39mself\u001b[39;49m\u001b[39m.\u001b[39;49mfindRScale()\n\u001b[1;32m    139\u001b[0m \u001b[39melse\u001b[39;00m:\n\u001b[1;32m    140\u001b[0m     \u001b[39mself\u001b[39m\u001b[39m.\u001b[39mrscale \u001b[39m=\u001b[39m rscale\n",
      "File \u001b[0;32m~/envs/base/lib/python3.9/site-packages/cosmoTransitions/tunneling1D.py:275\u001b[0m, in \u001b[0;36mSingleFieldInstanton.findRScale\u001b[0;34m(self)\u001b[0m\n\u001b[1;32m    268\u001b[0m \u001b[39m# Cubic function given by (ignoring linear and constant terms):\u001b[39;00m\n\u001b[1;32m    269\u001b[0m \u001b[39m# f(x) = C [(-1/3)x^3 + (1/2)x^2 xtop]\u001b[39;00m\n\u001b[1;32m    270\u001b[0m \u001b[39m# C = 6 Vtop / xtop^3\u001b[39;00m\n\u001b[1;32m    271\u001b[0m \u001b[39m# f''(xtop) = - C xtop\u001b[39;00m\n\u001b[1;32m    272\u001b[0m \u001b[39m# d2V = -6*Vtop / xtop**2\u001b[39;00m\n\u001b[1;32m    273\u001b[0m \u001b[39m# rscale = 1 / sqrt(d2V)\u001b[39;00m\n\u001b[1;32m    274\u001b[0m \u001b[39mif\u001b[39;00m Vtop \u001b[39m<\u001b[39m\u001b[39m=\u001b[39m \u001b[39m0\u001b[39m:\n\u001b[0;32m--> 275\u001b[0m     \u001b[39mraise\u001b[39;00m PotentialError(\u001b[39m\"\u001b[39m\u001b[39mBarrier height is not positive, \u001b[39m\u001b[39m\"\u001b[39m\n\u001b[1;32m    276\u001b[0m                          \u001b[39m\"\u001b[39m\u001b[39mdoes not exist.\u001b[39m\u001b[39m\"\u001b[39m, \u001b[39m\"\u001b[39m\u001b[39mno barrier\u001b[39m\u001b[39m\"\u001b[39m)\n\u001b[1;32m    277\u001b[0m rscale1 \u001b[39m=\u001b[39m \u001b[39mabs\u001b[39m(xtop) \u001b[39m/\u001b[39m np\u001b[39m.\u001b[39msqrt(\u001b[39mabs\u001b[39m(\u001b[39m6\u001b[39m\u001b[39m*\u001b[39mVtop))\n\u001b[1;32m    278\u001b[0m \u001b[39mreturn\u001b[39;00m rscale1\n",
      "\u001b[0;31mPotentialError\u001b[0m: ('Barrier height is not positive, does not exist.', 'no barrier')"
     ]
    }
   ],
   "source": [
    "m.tunneling_at_T(13769.1243567)"
   ]
  },
  {
   "cell_type": "code",
   "execution_count": null,
   "metadata": {},
   "outputs": [],
   "source": []
  }
 ],
 "metadata": {
  "kernelspec": {
   "display_name": "Python 3.9.10 ('base')",
   "language": "python",
   "name": "python3"
  },
  "language_info": {
   "codemirror_mode": {
    "name": "ipython",
    "version": 3
   },
   "file_extension": ".py",
   "mimetype": "text/x-python",
   "name": "python",
   "nbconvert_exporter": "python",
   "pygments_lexer": "ipython3",
   "version": "3.9.10"
  },
  "orig_nbformat": 4,
  "vscode": {
   "interpreter": {
    "hash": "d1fdd9000e0c5e4509e568fa85b190da3365b3c2a27cc0fa2efb4d17d7059255"
   }
  }
 },
 "nbformat": 4,
 "nbformat_minor": 2
}
