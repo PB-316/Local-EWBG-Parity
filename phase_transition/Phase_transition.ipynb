{
 "cells": [
  {
   "cell_type": "code",
   "execution_count": 1,
   "metadata": {},
   "outputs": [],
   "source": [
    "import numpy as np\n",
    "from cosmoTransitions import generic_potential as gp\n",
    "from cosmoTransitions.finiteT import Jb_spline as Jb\n",
    "from cosmoTransitions.finiteT import Jf_spline as Jf\n",
    "\n",
    "v2=15000.**2\n",
    "g=0.65\n",
    "gX=np.sqrt(0.36**2 * g**2 / (g**2 - 0.36**2))\n",
    "yt=0.7\n",
    "yN=0.65"
   ]
  },
  {
   "cell_type": "code",
   "execution_count": 32,
   "metadata": {},
   "outputs": [],
   "source": [
    "class parity_model(gp.generic_potential):\n",
    "    def init(self, lR):\n",
    "        self.Ndim = 1\n",
    "        self.x_eps = 1e-1\n",
    "        self.T_eps = 1e-3\n",
    "        self.lR = lR\n",
    "        self.gX = gX\n",
    "        self.yt = yt\n",
    "        self.yN = yN\n",
    "        self.g = g\n",
    "        self.renormScaleSq = v2\n",
    "        self.Tmax = 6000\n",
    "    def forbidPhaseCrit(self, X):\n",
    "        \"\"\"\n",
    "        forbidPhaseCrit is useful to set if there is, for example, a Z2 symmetry\n",
    "        in the theory and you don't want to double-count all of the phases. In\n",
    "        this case, we're throwing away all phases whose zeroth (since python\n",
    "        starts arrays at 0) field component of the vev goes below -5. Note that\n",
    "        we don't want to set this to just going below zero, since we are\n",
    "        interested in phases with vevs exactly at 0, and floating point numbers\n",
    "        will never be accurate enough to ensure that these aren't slightly\n",
    "        negative.\n",
    "        \"\"\"\n",
    "        return (np.array([X])[..., 0] < -5.0).any()\n",
    "\n",
    "    def V0(self, X):\n",
    "        X = np.asanyarray(X)\n",
    "        phi = X[..., 0]\n",
    "        r = -0.5*self.lR*v2*phi**2 + 0.25*self.lR*phi**4\n",
    "        return r\n",
    "\n",
    "    def boson_massSq(self,X,T):\n",
    "        X = np.array(X)\n",
    "        phi = X[..., 0]\n",
    "        phi2 = phi**2\n",
    "\n",
    "        mW = 0.25 * self.g**2 * phi2\n",
    "        mB = 0.25 * self.gX**2 * phi2\n",
    "        mZ = mW + mB\n",
    "        mH = 3*self.lR*phi2 - self.lR * v2\n",
    "        mX = self.lR*phi2 - self.lR * v2\n",
    "\n",
    "        M = np.array([mW, mZ, mH,mX])\n",
    "        M = np.rollaxis(M, 0, len(M.shape))\n",
    "\n",
    "        dof = np.array([6, 3, 1, 3])\n",
    "\n",
    "        return M, dof\n",
    "    \n",
    "    \n",
    "    def thermal_boson_massSq(self, X,T):\n",
    "        X = np.array(X)\n",
    "        phi = X[..., 0]\n",
    "        T = np.array(T)\n",
    "        T2 = T*T\n",
    "        \n",
    "\n",
    "        phi2=phi**2\n",
    "\n",
    "        mW = 0.25 * self.g**2 * phi2\n",
    "        mB = 0.25 * self.gX**2 * phi2\n",
    "        mZ = mW + mB\n",
    "\n",
    "        thermal_W = 11.*self.g**2 * T2/6.\n",
    "        thermal_X = 29.*self.gX**2 * T2/18.\n",
    "\n",
    "        square=np.sqrt(mW**2 + 2*mW*(mB + thermal_W + thermal_W) + (mB - thermal_W + thermal_X)**2)\n",
    "        mBL = 0.5*(mZ + thermal_W + thermal_X - square)\n",
    "        mZL = 0.5*(mZ + thermal_W + thermal_X + square)\n",
    "        mWL = mW + thermal_W\n",
    "\n",
    "        mH = 3*self.lR*phi2 - self.lR * v2 + 0.5* self.lR *T2 + 0.25 * self.yt**2 * T2 + 0.125 * self.g**2 * T2 + (self.g**2 + self.gX**2)*T2/16.\n",
    "        mX = self.lR*phi2 - self.lR * v2 + 0.5* self.lR *T2 + 0.25 * self.yt**2 * T2 + 0.125 * self.g**2 * T2 + (self.g**2 + self.gX**2)*T2/16.\n",
    "        M = np.array([mWL, mZL, mBL,mH, mX])\n",
    "        M = np.rollaxis(M, 0, len(M.shape))\n",
    "\n",
    "        dof = np.array([2, 1, 1, 1, 3])\n",
    "\n",
    "        return M, dof \n",
    "\n",
    "    def fermion_massSq(self, X):\n",
    "        X = np.array(X)\n",
    "        phi=X[...,0]\n",
    "        phi2 = phi**2\n",
    "        mt = 0.5 * self.yt**2 * phi2\n",
    "        mN = 0.5*self.yN**2 * phi2\n",
    "        Mf = np.array([mt,mN])\n",
    "        Mf = np.rollaxis(Mf, 0, len(Mf.shape))\n",
    "        doff = np.array([12,8])\n",
    "        return Mf, doff\n",
    "\n",
    "    def VB(self, X):\n",
    "        X = np.asanyarray(X)\n",
    "        phi = X[..., 0]\n",
    "        mW0T = (self.g**2)*v2*0.25\n",
    "        mH0T = 2*self.lR*v2\n",
    "        mZ0T = (self.g**2 + self.gX**2)*v2*0.25\n",
    "        mt0T = 0.5 * self.yt**2 * v2\n",
    "        mN0T = 0.5 * self.yN**2 * v2\n",
    "        B = 6*mW0T**2 + 3*mZ0T**2 + mH0T**2 - 12*mt0T**2 - 8*mN0T**2\n",
    "        y = 2*B*v2*phi**2 - 1.5*B*phi**4 + B*np.log(phi**2/v2+1e-100) * phi**4\n",
    "        return y/(64*np.pi**2 * v2**2)\n",
    "        \n",
    "    def V1T(self, bosons, fermions, T,include_radiation=True):\n",
    "        T2 = (T*T)[...,np.newaxis]+1e-100\n",
    "        T4 = T*T*T*T\n",
    "        m2,nb = bosons\n",
    "\n",
    "        y=np.sum(nb*Jb(np.abs(m2)/T2), axis = -1)\n",
    "        m2, nf = fermions\n",
    "        y += np.sum(nf*Jf(m2/T2),axis = -1)\n",
    "\n",
    "        return y*T4/(2*np.pi*np.pi)\n",
    "\n",
    "\n",
    "    def Vtot(self, X, T,include_radiation=True):\n",
    "        T = np.asanyarray(T, dtype=float)\n",
    "        X = np.asanyarray(X, dtype=float)\n",
    "\n",
    "        bosons = self.boson_massSq(X,T)\n",
    "        fermions = self.fermion_massSq(X)\n",
    "        Vtot = self.V0(X)\n",
    "        Vtot += self.VB(X)\n",
    "        Vtot += self.V1T(bosons, fermions,T,include_radiation)\n",
    "\n",
    "        return Vtot"
   ]
  },
  {
   "cell_type": "code",
   "execution_count": 33,
   "metadata": {},
   "outputs": [
    {
     "data": {
      "image/png": "[encoded data removed]",
      "text/plain": [
       "<Figure size 432x288 with 1 Axes>"
      ]
     },
     "metadata": {
      "needs_background": "light"
     },
     "output_type": "display_data"
    }
   ],
   "source": [
    "m=parity_model(0.015)\n",
    "m.plot1d(0,6000,T=4200)"
   ]
  },
  {
   "cell_type": "code",
   "execution_count": 34,
   "metadata": {},
   "outputs": [
    {
     "name": "stdout",
     "output_type": "stream",
     "text": [
      "Tracing phase starting at x = [14999.99990587] ; t = 0.0\n",
      "Tracing minimum up\n",
      "traceMinimum t0 = 0\n",
      ".............................................................................................................................................................................\n",
      "Tracing phase starting at x = [2.77555756e-17] ; t = 4222.045727050732\n",
      "Tracing minimum down\n",
      "traceMinimum t0 = 4222.05\n",
      ".....................................................\n",
      "Tracing minimum up\n",
      "traceMinimum t0 = 4222.05\n",
      "...\n",
      "Tunneling from phase 1 to phase 0 at T=4118.412\n",
      "high_vev = [-0.6670115]\n",
      "low_vev = [7217.54360502]\n",
      "Path deformation converged. 1 steps. fRatio = 1.26012e-13\n"
     ]
    },
    {
     "name": "stderr",
     "output_type": "stream",
     "text": [
      "/Users/isaac/envs/py386/lib/python3.8/site-packages/cosmoTransitions/tunneling1D.py:331: RuntimeWarning: overflow encountered in double_scalars\n",
      "  beta_r = beta*r\n",
      "/Users/isaac/envs/py386/lib/python3.8/site-packages/cosmoTransitions/tunneling1D.py:331: RuntimeWarning: overflow encountered in double_scalars\n",
      "  beta_r = beta*r\n",
      "/Users/isaac/envs/py386/lib/python3.8/site-packages/cosmoTransitions/tunneling1D.py:331: RuntimeWarning: overflow encountered in double_scalars\n",
      "  beta_r = beta*r\n",
      "/Users/isaac/envs/py386/lib/python3.8/site-packages/cosmoTransitions/tunneling1D.py:415: RuntimeWarning: overflow encountered in double_scalars\n",
      "  r *= 10\n",
      "/Users/isaac/envs/py386/lib/python3.8/site-packages/cosmoTransitions/tunneling1D.py:331: RuntimeWarning: overflow encountered in double_scalars\n",
      "  beta_r = beta*r\n"
     ]
    },
    {
     "data": {
      "text/plain": [
       "[]"
      ]
     },
     "execution_count": 34,
     "metadata": {},
     "output_type": "execute_result"
    }
   ],
   "source": [
    "m.findAllTransitions()"
   ]
  },
  {
   "cell_type": "code",
   "execution_count": null,
   "metadata": {},
   "outputs": [],
   "source": []
  }
 ],
 "metadata": {
  "interpreter": {
   "hash": "d9013c9227f935c3706d12503aa486f720011eb3db2c1ea35b0518c5ade7dc66"
  },
  "kernelspec": {
   "display_name": "Python 3.8.6 64-bit ('py386': venv)",
   "name": "python3"
  },
  "language_info": {
   "codemirror_mode": {
    "name": "ipython",
    "version": 3
   },
   "file_extension": ".py",
   "mimetype": "text/x-python",
   "name": "python",
   "nbconvert_exporter": "python",
   "pygments_lexer": "ipython3",
   "version": "3.8.6"
  },
  "orig_nbformat": 4
 },
 "nbformat": 4,
 "nbformat_minor": 2
}
